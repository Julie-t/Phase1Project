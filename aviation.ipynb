{
 "cells": [
  {
   "cell_type": "markdown",
   "id": "b962baac",
   "metadata": {},
   "source": [
    "# Aircraft Risk Analysis."
   ]
  },
  {
   "cell_type": "markdown",
   "id": "14d29eca",
   "metadata": {},
   "source": [
    "## Project Overview\n",
    "Our company is diversifying its portfolio by entering the aviation industry. To ensure a safe and successful entry, the leadership team is exploring which aircraft models are lowest risk for purchase and operation. This project aims to analyze historical aviation accident data to determine which aircraft present the **lowest operational risk**, enabling data-driven acquisition decisions for both **commercial** and **private enterprise** use cases.\n",
    "\n",
    "![aircraft](images\\aircraft.jpg)\n",
    "\n",
    "Photo by <a href=\"https://media.istockphoto.com/id/1455888136/photo/luxury-private-jet.jpg?s=612x612&w=0&k=20&c=jtAd4usrdWHczYRQtc4WfSbBjhU2xB7gNv13fgLrz_k=\">dicus63</a> on <a href=\"https://media.istockphoto.com/id/1455888136/photo/luxury-private-jet.jpg?s=612x612&w=0&k=20&c=jtAd4usrdWHczYRQtc4WfSbBjhU2xB7gNv13fgLrz_k=\">Istock</a>\n"
   ]
  },
  {
   "cell_type": "markdown",
   "id": "ffeaf55e",
   "metadata": {},
   "source": [
    "## Business Understanding\n",
    "### Problem Statement\n",
    "The company is planning to enter the aviation industry but lacks expertise in identifying safe and reliable aircraft. The task is analyzing aviation incident data to determine which aircraft are the **lowest risk**. Your insights will help the aviation division make informed purchasing decisions.\n"
   ]
  },
  {
   "cell_type": "markdown",
   "id": "868ec7ff",
   "metadata": {},
   "source": [
    "### Objectives\n",
    "- Identify aircraft models with **the fewest or least severe incidents**.\n",
    "- Understand patterns and risk factors across different aircraft."
   ]
  },
  {
   "cell_type": "markdown",
   "id": "cefcbf29",
   "metadata": {},
   "source": [
    "## Data Understanding\n",
    "The dataset contains historical records of aviation incidents and accidents, including:\n",
    "- Aircraft information (Make, Model, Engine Type)\n",
    "- Incident characteristics (Injury Severity, Damage, Weather Conditions)\n",
    "- Operational context (Purpose of Flight, Number of Engines)"
   ]
  },
  {
   "cell_type": "markdown",
   "id": "4dafe3fb",
   "metadata": {},
   "source": [
    "# Exploring the Aviation Dataset\n",
    "First, i imported the essential libraries:\n",
    "\n",
    "- Pandas to work with data in table format.\n",
    "\n",
    "- Seaborn for creating beautiful visualizations.\n",
    "\n",
    "- Matplotlib for additional plotting controls.\n",
    "\n",
    "I also activated inline plotting with %matplotlib inline so that all plots will show directly in the notebook.\n",
    "\n",
    "\n"
   ]
  },
  {
   "cell_type": "code",
   "execution_count": 38,
   "id": "2685a6af",
   "metadata": {},
   "outputs": [],
   "source": [
    "import pandas as pd\n",
    "import seaborn as sns\n",
    "import matplotlib.pyplot as plt\n",
    "%matplotlib inline"
   ]
  },
  {
   "cell_type": "markdown",
   "id": "02272bae",
   "metadata": {},
   "source": [
    "I loaded the aviation incident data from a file called AviationData.csv using:"
   ]
  },
  {
   "cell_type": "code",
   "execution_count": 39,
   "id": "6b245476",
   "metadata": {},
   "outputs": [
    {
     "name": "stderr",
     "output_type": "stream",
     "text": [
      "c:\\Users\\user\\anaconda3\\envs\\learn-env\\lib\\site-packages\\IPython\\core\\interactiveshell.py:3145: DtypeWarning: Columns (6,7,28) have mixed types.Specify dtype option on import or set low_memory=False.\n",
      "  has_raised = await self.run_ast_nodes(code_ast.body, cell_name,\n"
     ]
    },
    {
     "data": {
      "text/html": [
       "<div>\n",
       "<style scoped>\n",
       "    .dataframe tbody tr th:only-of-type {\n",
       "        vertical-align: middle;\n",
       "    }\n",
       "\n",
       "    .dataframe tbody tr th {\n",
       "        vertical-align: top;\n",
       "    }\n",
       "\n",
       "    .dataframe thead th {\n",
       "        text-align: right;\n",
       "    }\n",
       "</style>\n",
       "<table border=\"1\" class=\"dataframe\">\n",
       "  <thead>\n",
       "    <tr style=\"text-align: right;\">\n",
       "      <th></th>\n",
       "      <th>Event.Id</th>\n",
       "      <th>Investigation.Type</th>\n",
       "      <th>Accident.Number</th>\n",
       "      <th>Event.Date</th>\n",
       "      <th>Location</th>\n",
       "      <th>Country</th>\n",
       "      <th>Latitude</th>\n",
       "      <th>Longitude</th>\n",
       "      <th>Airport.Code</th>\n",
       "      <th>Airport.Name</th>\n",
       "      <th>...</th>\n",
       "      <th>Purpose.of.flight</th>\n",
       "      <th>Air.carrier</th>\n",
       "      <th>Total.Fatal.Injuries</th>\n",
       "      <th>Total.Serious.Injuries</th>\n",
       "      <th>Total.Minor.Injuries</th>\n",
       "      <th>Total.Uninjured</th>\n",
       "      <th>Weather.Condition</th>\n",
       "      <th>Broad.phase.of.flight</th>\n",
       "      <th>Report.Status</th>\n",
       "      <th>Publication.Date</th>\n",
       "    </tr>\n",
       "  </thead>\n",
       "  <tbody>\n",
       "    <tr>\n",
       "      <th>0</th>\n",
       "      <td>20001218X45444</td>\n",
       "      <td>Accident</td>\n",
       "      <td>SEA87LA080</td>\n",
       "      <td>1948-10-24</td>\n",
       "      <td>MOOSE CREEK, ID</td>\n",
       "      <td>United States</td>\n",
       "      <td>NaN</td>\n",
       "      <td>NaN</td>\n",
       "      <td>NaN</td>\n",
       "      <td>NaN</td>\n",
       "      <td>...</td>\n",
       "      <td>Personal</td>\n",
       "      <td>NaN</td>\n",
       "      <td>2.0</td>\n",
       "      <td>0.0</td>\n",
       "      <td>0.0</td>\n",
       "      <td>0.0</td>\n",
       "      <td>UNK</td>\n",
       "      <td>Cruise</td>\n",
       "      <td>Probable Cause</td>\n",
       "      <td>NaN</td>\n",
       "    </tr>\n",
       "    <tr>\n",
       "      <th>1</th>\n",
       "      <td>20001218X45447</td>\n",
       "      <td>Accident</td>\n",
       "      <td>LAX94LA336</td>\n",
       "      <td>1962-07-19</td>\n",
       "      <td>BRIDGEPORT, CA</td>\n",
       "      <td>United States</td>\n",
       "      <td>NaN</td>\n",
       "      <td>NaN</td>\n",
       "      <td>NaN</td>\n",
       "      <td>NaN</td>\n",
       "      <td>...</td>\n",
       "      <td>Personal</td>\n",
       "      <td>NaN</td>\n",
       "      <td>4.0</td>\n",
       "      <td>0.0</td>\n",
       "      <td>0.0</td>\n",
       "      <td>0.0</td>\n",
       "      <td>UNK</td>\n",
       "      <td>Unknown</td>\n",
       "      <td>Probable Cause</td>\n",
       "      <td>19-09-1996</td>\n",
       "    </tr>\n",
       "    <tr>\n",
       "      <th>2</th>\n",
       "      <td>20061025X01555</td>\n",
       "      <td>Accident</td>\n",
       "      <td>NYC07LA005</td>\n",
       "      <td>1974-08-30</td>\n",
       "      <td>Saltville, VA</td>\n",
       "      <td>United States</td>\n",
       "      <td>36.9222</td>\n",
       "      <td>-81.8781</td>\n",
       "      <td>NaN</td>\n",
       "      <td>NaN</td>\n",
       "      <td>...</td>\n",
       "      <td>Personal</td>\n",
       "      <td>NaN</td>\n",
       "      <td>3.0</td>\n",
       "      <td>NaN</td>\n",
       "      <td>NaN</td>\n",
       "      <td>NaN</td>\n",
       "      <td>IMC</td>\n",
       "      <td>Cruise</td>\n",
       "      <td>Probable Cause</td>\n",
       "      <td>26-02-2007</td>\n",
       "    </tr>\n",
       "    <tr>\n",
       "      <th>3</th>\n",
       "      <td>20001218X45448</td>\n",
       "      <td>Accident</td>\n",
       "      <td>LAX96LA321</td>\n",
       "      <td>1977-06-19</td>\n",
       "      <td>EUREKA, CA</td>\n",
       "      <td>United States</td>\n",
       "      <td>NaN</td>\n",
       "      <td>NaN</td>\n",
       "      <td>NaN</td>\n",
       "      <td>NaN</td>\n",
       "      <td>...</td>\n",
       "      <td>Personal</td>\n",
       "      <td>NaN</td>\n",
       "      <td>2.0</td>\n",
       "      <td>0.0</td>\n",
       "      <td>0.0</td>\n",
       "      <td>0.0</td>\n",
       "      <td>IMC</td>\n",
       "      <td>Cruise</td>\n",
       "      <td>Probable Cause</td>\n",
       "      <td>12-09-2000</td>\n",
       "    </tr>\n",
       "    <tr>\n",
       "      <th>4</th>\n",
       "      <td>20041105X01764</td>\n",
       "      <td>Accident</td>\n",
       "      <td>CHI79FA064</td>\n",
       "      <td>1979-08-02</td>\n",
       "      <td>Canton, OH</td>\n",
       "      <td>United States</td>\n",
       "      <td>NaN</td>\n",
       "      <td>NaN</td>\n",
       "      <td>NaN</td>\n",
       "      <td>NaN</td>\n",
       "      <td>...</td>\n",
       "      <td>Personal</td>\n",
       "      <td>NaN</td>\n",
       "      <td>1.0</td>\n",
       "      <td>2.0</td>\n",
       "      <td>NaN</td>\n",
       "      <td>0.0</td>\n",
       "      <td>VMC</td>\n",
       "      <td>Approach</td>\n",
       "      <td>Probable Cause</td>\n",
       "      <td>16-04-1980</td>\n",
       "    </tr>\n",
       "  </tbody>\n",
       "</table>\n",
       "<p>5 rows × 31 columns</p>\n",
       "</div>"
      ],
      "text/plain": [
       "         Event.Id Investigation.Type Accident.Number  Event.Date  \\\n",
       "0  20001218X45444           Accident      SEA87LA080  1948-10-24   \n",
       "1  20001218X45447           Accident      LAX94LA336  1962-07-19   \n",
       "2  20061025X01555           Accident      NYC07LA005  1974-08-30   \n",
       "3  20001218X45448           Accident      LAX96LA321  1977-06-19   \n",
       "4  20041105X01764           Accident      CHI79FA064  1979-08-02   \n",
       "\n",
       "          Location        Country Latitude Longitude Airport.Code  \\\n",
       "0  MOOSE CREEK, ID  United States      NaN       NaN          NaN   \n",
       "1   BRIDGEPORT, CA  United States      NaN       NaN          NaN   \n",
       "2    Saltville, VA  United States  36.9222  -81.8781          NaN   \n",
       "3       EUREKA, CA  United States      NaN       NaN          NaN   \n",
       "4       Canton, OH  United States      NaN       NaN          NaN   \n",
       "\n",
       "  Airport.Name  ... Purpose.of.flight Air.carrier Total.Fatal.Injuries  \\\n",
       "0          NaN  ...          Personal         NaN                  2.0   \n",
       "1          NaN  ...          Personal         NaN                  4.0   \n",
       "2          NaN  ...          Personal         NaN                  3.0   \n",
       "3          NaN  ...          Personal         NaN                  2.0   \n",
       "4          NaN  ...          Personal         NaN                  1.0   \n",
       "\n",
       "  Total.Serious.Injuries Total.Minor.Injuries Total.Uninjured  \\\n",
       "0                    0.0                  0.0             0.0   \n",
       "1                    0.0                  0.0             0.0   \n",
       "2                    NaN                  NaN             NaN   \n",
       "3                    0.0                  0.0             0.0   \n",
       "4                    2.0                  NaN             0.0   \n",
       "\n",
       "  Weather.Condition  Broad.phase.of.flight   Report.Status Publication.Date  \n",
       "0               UNK                 Cruise  Probable Cause              NaN  \n",
       "1               UNK                Unknown  Probable Cause       19-09-1996  \n",
       "2               IMC                 Cruise  Probable Cause       26-02-2007  \n",
       "3               IMC                 Cruise  Probable Cause       12-09-2000  \n",
       "4               VMC               Approach  Probable Cause       16-04-1980  \n",
       "\n",
       "[5 rows x 31 columns]"
      ]
     },
     "execution_count": 39,
     "metadata": {},
     "output_type": "execute_result"
    }
   ],
   "source": [
    "# loading AviationData.csv as aviation_df \n",
    "aviation_df = pd.read_csv(\"AviationData.csv\", encoding=\"ISO-8859-1\")\n",
    "aviation_df.head()"
   ]
  },
  {
   "cell_type": "markdown",
   "id": "ff66bfd0",
   "metadata": {},
   "source": [
    "I specified the encoding as ISO-8859-1 to correctly handle any special characters that might be in the file."
   ]
  },
  {
   "cell_type": "markdown",
   "id": "6c2718e4",
   "metadata": {},
   "source": [
    "I explored the size and structure of the data by:\n",
    "\n",
    "- Checking its shape with aviation_df.shape to see how many rows and columns we have.\n",
    "\n",
    "- Viewing detailed column info (data types, non-null counts) using aviation_df.info().\n",
    "\n",
    "This step helps us understand:\n",
    "\n",
    "- How big the dataset is.\n",
    "\n",
    "- Which columns might have missing data.\n",
    "\n",
    "- What types of variables (text, numbers, dates) we are dealing with."
   ]
  },
  {
   "cell_type": "code",
   "execution_count": 40,
   "id": "e3da1a1d",
   "metadata": {},
   "outputs": [
    {
     "data": {
      "text/plain": [
       "(88889, 31)"
      ]
     },
     "execution_count": 40,
     "metadata": {},
     "output_type": "execute_result"
    }
   ],
   "source": [
    "# dimensionality of the data\n",
    "aviation_df.shape"
   ]
  },
  {
   "cell_type": "code",
   "execution_count": 41,
   "id": "5eed85a3",
   "metadata": {},
   "outputs": [
    {
     "name": "stdout",
     "output_type": "stream",
     "text": [
      "<class 'pandas.core.frame.DataFrame'>\n",
      "RangeIndex: 88889 entries, 0 to 88888\n",
      "Data columns (total 31 columns):\n",
      " #   Column                  Non-Null Count  Dtype  \n",
      "---  ------                  --------------  -----  \n",
      " 0   Event.Id                88889 non-null  object \n",
      " 1   Investigation.Type      88889 non-null  object \n",
      " 2   Accident.Number         88889 non-null  object \n",
      " 3   Event.Date              88889 non-null  object \n",
      " 4   Location                88837 non-null  object \n",
      " 5   Country                 88663 non-null  object \n",
      " 6   Latitude                34382 non-null  object \n",
      " 7   Longitude               34373 non-null  object \n",
      " 8   Airport.Code            50249 non-null  object \n",
      " 9   Airport.Name            52790 non-null  object \n",
      " 10  Injury.Severity         87889 non-null  object \n",
      " 11  Aircraft.damage         85695 non-null  object \n",
      " 12  Aircraft.Category       32287 non-null  object \n",
      " 13  Registration.Number     87572 non-null  object \n",
      " 14  Make                    88826 non-null  object \n",
      " 15  Model                   88797 non-null  object \n",
      " 16  Amateur.Built           88787 non-null  object \n",
      " 17  Number.of.Engines       82805 non-null  float64\n",
      " 18  Engine.Type             81812 non-null  object \n",
      " 19  FAR.Description         32023 non-null  object \n",
      " 20  Schedule                12582 non-null  object \n",
      " 21  Purpose.of.flight       82697 non-null  object \n",
      " 22  Air.carrier             16648 non-null  object \n",
      " 23  Total.Fatal.Injuries    77488 non-null  float64\n",
      " 24  Total.Serious.Injuries  76379 non-null  float64\n",
      " 25  Total.Minor.Injuries    76956 non-null  float64\n",
      " 26  Total.Uninjured         82977 non-null  float64\n",
      " 27  Weather.Condition       84397 non-null  object \n",
      " 28  Broad.phase.of.flight   61724 non-null  object \n",
      " 29  Report.Status           82508 non-null  object \n",
      " 30  Publication.Date        75118 non-null  object \n",
      "dtypes: float64(5), object(26)\n",
      "memory usage: 21.0+ MB\n"
     ]
    }
   ],
   "source": [
    "aviation_df.info()"
   ]
  },
  {
   "cell_type": "markdown",
   "id": "c65ee13b",
   "metadata": {},
   "source": [
    "## Data Cleaning\n",
    "### Handling missing values"
   ]
  },
  {
   "cell_type": "markdown",
   "id": "a86dfa04",
   "metadata": {},
   "source": [
    "I started by checking how much missing data we have in each column using:"
   ]
  },
  {
   "cell_type": "code",
   "execution_count": 42,
   "id": "a6a7e643",
   "metadata": {},
   "outputs": [
    {
     "data": {
      "text/plain": [
       "Event.Id                      0\n",
       "Investigation.Type            0\n",
       "Accident.Number               0\n",
       "Event.Date                    0\n",
       "Location                     52\n",
       "Country                     226\n",
       "Latitude                  54507\n",
       "Longitude                 54516\n",
       "Airport.Code              38640\n",
       "Airport.Name              36099\n",
       "Injury.Severity            1000\n",
       "Aircraft.damage            3194\n",
       "Aircraft.Category         56602\n",
       "Registration.Number        1317\n",
       "Make                         63\n",
       "Model                        92\n",
       "Amateur.Built               102\n",
       "Number.of.Engines          6084\n",
       "Engine.Type                7077\n",
       "FAR.Description           56866\n",
       "Schedule                  76307\n",
       "Purpose.of.flight          6192\n",
       "Air.carrier               72241\n",
       "Total.Fatal.Injuries      11401\n",
       "Total.Serious.Injuries    12510\n",
       "Total.Minor.Injuries      11933\n",
       "Total.Uninjured            5912\n",
       "Weather.Condition          4492\n",
       "Broad.phase.of.flight     27165\n",
       "Report.Status              6381\n",
       "Publication.Date          13771\n",
       "dtype: int64"
      ]
     },
     "execution_count": 42,
     "metadata": {},
     "output_type": "execute_result"
    }
   ],
   "source": [
    "aviation_df.isna().sum()"
   ]
  },
  {
   "cell_type": "markdown",
   "id": "33ea8c46",
   "metadata": {},
   "source": [
    "Our Dataset contains many null and inconsistent values. The first step is to identify the columns that are irrelevant to my dataset and drop them.\n",
    "I did my cleaning on a copy of the original dataset."
   ]
  },
  {
   "cell_type": "markdown",
   "id": "8d8e68fe",
   "metadata": {},
   "source": [
    "By creating a copy, I kept the original data safe and untouched, just in case I need to refer back to it later."
   ]
  },
  {
   "cell_type": "code",
   "execution_count": 43,
   "id": "aa55ca2d",
   "metadata": {},
   "outputs": [],
   "source": [
    "drop_cols = [\n",
    "    \"Publication.Date\", \"Report.Status\", \"FAR.Description\",\n",
    "    \"Air.carrier\", \"Schedule\", \"Airport.Code\", \"Airport.Name\",\n",
    "    \"Latitude\", \"Longitude\", \"Registration.Number\"\n",
    "]\n",
    "aviation_df_cleaned = aviation_df.drop(columns=drop_cols).copy()"
   ]
  },
  {
   "cell_type": "code",
   "execution_count": 44,
   "id": "60fd9641",
   "metadata": {},
   "outputs": [
    {
     "data": {
      "text/plain": [
       "Event.Id                      0\n",
       "Investigation.Type            0\n",
       "Accident.Number               0\n",
       "Event.Date                    0\n",
       "Location                     52\n",
       "Country                     226\n",
       "Injury.Severity            1000\n",
       "Aircraft.damage            3194\n",
       "Aircraft.Category         56602\n",
       "Make                         63\n",
       "Model                        92\n",
       "Amateur.Built               102\n",
       "Number.of.Engines          6084\n",
       "Engine.Type                7077\n",
       "Purpose.of.flight          6192\n",
       "Total.Fatal.Injuries      11401\n",
       "Total.Serious.Injuries    12510\n",
       "Total.Minor.Injuries      11933\n",
       "Total.Uninjured            5912\n",
       "Weather.Condition          4492\n",
       "Broad.phase.of.flight     27165\n",
       "dtype: int64"
      ]
     },
     "execution_count": 44,
     "metadata": {},
     "output_type": "execute_result"
    }
   ],
   "source": [
    "aviation_df_cleaned.isna().sum()"
   ]
  },
  {
   "cell_type": "markdown",
   "id": "5703f4b1",
   "metadata": {},
   "source": [
    "I noticed that some important columns still had missing values. Instead of dropping them, I decided to fill the missing entries with a placeholder: 'Unknown'."
   ]
  },
  {
   "cell_type": "markdown",
   "id": "2ed37323",
   "metadata": {},
   "source": [
    "The selected columns were:"
   ]
  },
  {
   "cell_type": "code",
   "execution_count": 45,
   "id": "df77547d",
   "metadata": {},
   "outputs": [],
   "source": [
    "fill_unknown = [\n",
    "    \"Injury.Severity\", \"Aircraft.damage\", \"Amateur.Built\",\n",
    "    \"Engine.Type\", \"Purpose.of.flight\", \"Weather.Condition\",\n",
    "    \"Broad.phase.of.flight\"\n",
    "]\n",
    "aviation_df_cleaned[fill_unknown] = aviation_df_cleaned[fill_unknown].fillna('Unknown')"
   ]
  },
  {
   "cell_type": "markdown",
   "id": "5733555f",
   "metadata": {},
   "source": [
    "These columns describe important characteristics of the incidents, so it was better to keep them — even if some information is missing."
   ]
  },
  {
   "cell_type": "code",
   "execution_count": 46,
   "id": "1e52ba39",
   "metadata": {},
   "outputs": [
    {
     "data": {
      "text/plain": [
       "1.0    69582\n",
       "2.0    11079\n",
       "0.0     1226\n",
       "3.0      483\n",
       "4.0      431\n",
       "8.0        3\n",
       "6.0        1\n",
       "Name: Number.of.Engines, dtype: int64"
      ]
     },
     "execution_count": 46,
     "metadata": {},
     "output_type": "execute_result"
    }
   ],
   "source": [
    "aviation_df_cleaned['Number.of.Engines'].value_counts()"
   ]
  },
  {
   "cell_type": "markdown",
   "id": "c99913c5",
   "metadata": {},
   "source": [
    "- `Number.of.Engines` was filled with 1 (default assumption for small aircraft)"
   ]
  },
  {
   "cell_type": "code",
   "execution_count": 47,
   "id": "7e9670ea",
   "metadata": {},
   "outputs": [
    {
     "data": {
      "text/plain": [
       "0"
      ]
     },
     "execution_count": 47,
     "metadata": {},
     "output_type": "execute_result"
    }
   ],
   "source": [
    "# filling the number of engines column with 1 \n",
    "aviation_df_cleaned[\"Number.of.Engines\"] = aviation_df_cleaned[\"Number.of.Engines\"].fillna(1)\n",
    "aviation_df_cleaned[\"Number.of.Engines\"].isna().sum()"
   ]
  },
  {
   "cell_type": "markdown",
   "id": "227bc2ac",
   "metadata": {},
   "source": [
    "- Location-related fields (`Country`, `Location`) were filled with `\"Unknown\"` to preserve rows for potential future insights and coonsistency of the dataset."
   ]
  },
  {
   "cell_type": "code",
   "execution_count": 48,
   "id": "f0a4cdd8",
   "metadata": {},
   "outputs": [],
   "source": [
    "# fill 'country' and 'location' with 'unknown'\n",
    "aviation_df_cleaned[\"Country\"] = aviation_df_cleaned[\"Country\"].fillna(\"Unknown\")\n",
    "aviation_df_cleaned[\"Location\"] = aviation_df_cleaned[\"Location\"].fillna(\"Unknown\")"
   ]
  },
  {
   "cell_type": "markdown",
   "id": "5ff8d336",
   "metadata": {},
   "source": [
    "I removed any rows where either Event.Date or Accident.Number was missing:"
   ]
  },
  {
   "cell_type": "code",
   "execution_count": 49,
   "id": "667cd46e",
   "metadata": {},
   "outputs": [
    {
     "data": {
      "text/plain": [
       "Event.Id                      0\n",
       "Investigation.Type            0\n",
       "Accident.Number               0\n",
       "Event.Date                    0\n",
       "Location                      0\n",
       "Country                       0\n",
       "Injury.Severity               0\n",
       "Aircraft.damage               0\n",
       "Aircraft.Category         56602\n",
       "Make                         63\n",
       "Model                        92\n",
       "Amateur.Built                 0\n",
       "Number.of.Engines             0\n",
       "Engine.Type                   0\n",
       "Purpose.of.flight             0\n",
       "Total.Fatal.Injuries      11401\n",
       "Total.Serious.Injuries    12510\n",
       "Total.Minor.Injuries      11933\n",
       "Total.Uninjured            5912\n",
       "Weather.Condition             0\n",
       "Broad.phase.of.flight         0\n",
       "dtype: int64"
      ]
     },
     "execution_count": 49,
     "metadata": {},
     "output_type": "execute_result"
    }
   ],
   "source": [
    "# drop rows with missing values in 'Event.Date' or 'Accident.Number'\n",
    "aviation_df_cleaned.dropna(subset=[\"Event.Date\", \"Accident.Number\"], inplace=True)\n",
    "aviation_df_cleaned.isna().sum()"
   ]
  },
  {
   "cell_type": "code",
   "execution_count": 50,
   "id": "7947fe19",
   "metadata": {},
   "outputs": [],
   "source": [
    "# filling missing numerical columns with 0 (assume no injuries unless recorded)\n",
    "injury_cols = [\n",
    "    'Total.Fatal.Injuries', 'Total.Serious.Injuries',\n",
    "    'Total.Minor.Injuries', 'Total.Uninjured'\n",
    "]\n",
    "aviation_df_cleaned[injury_cols] = aviation_df_cleaned[injury_cols].fillna(0)"
   ]
  },
  {
   "cell_type": "markdown",
   "id": "4bf62192",
   "metadata": {},
   "source": [
    "\n",
    "- Key fields like `Make` and `Model` are **critical** for risk analysis — rows missing these were dropped."
   ]
  },
  {
   "cell_type": "code",
   "execution_count": 51,
   "id": "ad80076b",
   "metadata": {},
   "outputs": [],
   "source": [
    "# Drop rows missing Make or Model – critical for identifying aircraft risk\n",
    "aviation_df_cleaned.dropna(subset=['Make', 'Model'], inplace=True)"
   ]
  },
  {
   "cell_type": "code",
   "execution_count": 52,
   "id": "371e3aab",
   "metadata": {},
   "outputs": [],
   "source": [
    "# filling missing values Aircraft.Category with 'unknown'\n",
    "aviation_df_cleaned['Aircraft.Category'] = aviation_df_cleaned['Aircraft.Category'].fillna('Unknown')"
   ]
  },
  {
   "cell_type": "code",
   "execution_count": 53,
   "id": "6b41cf60",
   "metadata": {},
   "outputs": [
    {
     "name": "stdout",
     "output_type": "stream",
     "text": [
      "<class 'pandas.core.frame.DataFrame'>\n",
      "Int64Index: 88777 entries, 0 to 88888\n",
      "Data columns (total 21 columns):\n",
      " #   Column                  Non-Null Count  Dtype  \n",
      "---  ------                  --------------  -----  \n",
      " 0   Event.Id                88777 non-null  object \n",
      " 1   Investigation.Type      88777 non-null  object \n",
      " 2   Accident.Number         88777 non-null  object \n",
      " 3   Event.Date              88777 non-null  object \n",
      " 4   Location                88777 non-null  object \n",
      " 5   Country                 88777 non-null  object \n",
      " 6   Injury.Severity         88777 non-null  object \n",
      " 7   Aircraft.damage         88777 non-null  object \n",
      " 8   Aircraft.Category       88777 non-null  object \n",
      " 9   Make                    88777 non-null  object \n",
      " 10  Model                   88777 non-null  object \n",
      " 11  Amateur.Built           88777 non-null  object \n",
      " 12  Number.of.Engines       88777 non-null  float64\n",
      " 13  Engine.Type             88777 non-null  object \n",
      " 14  Purpose.of.flight       88777 non-null  object \n",
      " 15  Total.Fatal.Injuries    88777 non-null  float64\n",
      " 16  Total.Serious.Injuries  88777 non-null  float64\n",
      " 17  Total.Minor.Injuries    88777 non-null  float64\n",
      " 18  Total.Uninjured         88777 non-null  float64\n",
      " 19  Weather.Condition       88777 non-null  object \n",
      " 20  Broad.phase.of.flight   88777 non-null  object \n",
      "dtypes: float64(5), object(16)\n",
      "memory usage: 14.9+ MB\n"
     ]
    }
   ],
   "source": [
    "aviation_df_cleaned.info()"
   ]
  },
  {
   "cell_type": "markdown",
   "id": "8edc5632",
   "metadata": {},
   "source": [
    "After the cleaning process:\n",
    "\n",
    "- I now have 88,777 complete entries.\n",
    "\n",
    "- There are 21 well-organized columns capturing critical details about each event.\n",
    "\n",
    "- All missing values in important fields like Event.Date, Accident.Number, Country, and Location have been handled.\n",
    "\n",
    "- Non-critical missing information (like injury severity or weather conditions) has been clearly marked as 'Unknown' instead of being left blank.\n",
    "\n"
   ]
  },
  {
   "cell_type": "markdown",
   "id": "a51454e8",
   "metadata": {},
   "source": [
    "## Exploratory Data Analysis(EDA)\n",
    "The purpose of this EDA is to explore trends, patterns, and relationships in the aircraft incident data to help identify which aircraft types are associated with lower risk."
   ]
  },
  {
   "cell_type": "markdown",
   "id": "a566a73f",
   "metadata": {},
   "source": [
    "#### 1. Top 10 Aircrafts models and makes Involved in Accidents"
   ]
  },
  {
   "cell_type": "markdown",
   "id": "fb48aae8",
   "metadata": {},
   "source": [
    "To achieve this, I used the following approach:\n",
    "1. **Grouped** the data by the \"Model\" column.\n",
    "2. **Counted** the number of accidents per Model.\n",
    "3. **Selected** the top 10 Model with the highest accident counts."
   ]
  },
  {
   "cell_type": "code",
   "execution_count": 54,
   "id": "ab2791e7",
   "metadata": {},
   "outputs": [
    {
     "data": {
      "text/plain": [
       "152          2367\n",
       "172          1756\n",
       "172N         1164\n",
       "PA-28-140     932\n",
       "150           829\n",
       "172M          798\n",
       "172P          689\n",
       "182           659\n",
       "180           622\n",
       "150M          585\n",
       "Name: Model, dtype: int64"
      ]
     },
     "execution_count": 54,
     "metadata": {},
     "output_type": "execute_result"
    }
   ],
   "source": [
    "# Top 10 models Involved with accidents\n",
    "top_aircraft_models = aviation_df_cleaned[\"Model\"].value_counts().head(10)\n",
    "top_aircraft_models\n"
   ]
  },
  {
   "cell_type": "markdown",
   "id": "c60e455f",
   "metadata": {},
   "source": [
    "The above are the Top 10 aircraft models involved in accidents. These models may be more prone to issues, or simply more commonly flown."
   ]
  },
  {
   "cell_type": "code",
   "execution_count": 55,
   "id": "c53dc139",
   "metadata": {},
   "outputs": [
    {
     "data": {
      "image/png": "[encoded data removed]",
      "text/plain": [
       "<Figure size 720x432 with 1 Axes>"
      ]
     },
     "metadata": {
      "needs_background": "light"
     },
     "output_type": "display_data"
    }
   ],
   "source": [
    "fig, ax = plt.subplots(figsize=(10,6))\n",
    "\n",
    "ax.bar(\n",
    "    top_aircraft_models.index, top_aircraft_models.values, color='skyblue'\n",
    ")\n",
    "ax.set_xlabel(\"Number of Accidents\")\n",
    "ax.set_ylabel(\"Aircraft Model\")\n",
    "ax.set_title(\"Top 10 Aircraft Models Involved in Accidents\");"
   ]
  },
  {
   "cell_type": "markdown",
   "id": "85864645",
   "metadata": {},
   "source": [
    "### Recommendations\n",
    "- Avoid Aircraft Models with Highest Incident Counts. The top 3 models in the above should be discontinued for deeper investigation or \n",
    "initial exclusion unless data proves the high count is purely due to high usage.\n",
    "\n"
   ]
  },
  {
   "cell_type": "markdown",
   "id": "0a43f56a",
   "metadata": {},
   "source": [
    "\n",
    "In the dataset of aviation accidents, I sought to identify which aircraft manufacturers are most frequently involved in incidents. \n",
    "\n",
    "To achieve this, I used the following approach:\n",
    "1. **Grouped** the data by the \"Make\" column.\n",
    "2. **Counted** the number of accidents per manufacturer.\n",
    "3. **Selected** the top 10 manufacturers with the highest accident counts.\n"
   ]
  },
  {
   "cell_type": "code",
   "execution_count": 56,
   "id": "c79c9e63",
   "metadata": {},
   "outputs": [],
   "source": [
    "# Update \"CESSNA\" to \"Cessna\" in the 'Make' column\n",
    "aviation_df_cleaned[\"Make\"] = aviation_df_cleaned[\"Make\"].replace(\"CESSNA\", \"Cessna\")\n"
   ]
  },
  {
   "cell_type": "code",
   "execution_count": 57,
   "id": "ab9a2117",
   "metadata": {},
   "outputs": [
    {
     "data": {
      "text/plain": [
       "Cessna     27145\n",
       "Piper      12029\n",
       "Beech       4330\n",
       "PIPER       2840\n",
       "Bell        2134\n",
       "Boeing      1593\n",
       "BOEING      1145\n",
       "Grumman     1094\n",
       "Mooney      1092\n",
       "BEECH       1041\n",
       "Name: Make, dtype: int64"
      ]
     },
     "execution_count": 57,
     "metadata": {},
     "output_type": "execute_result"
    }
   ],
   "source": [
    "# Top 10 aircraft makes invloved in the most accidents\n",
    "top_aircraft_make = aviation_df_cleaned[\"Make\"].value_counts().head(10)\n",
    "top_aircraft_make"
   ]
  },
  {
   "cell_type": "code",
   "execution_count": 58,
   "id": "3d12fcc5",
   "metadata": {},
   "outputs": [
    {
     "data": {
      "image/png": "[encoded data removed]",
      "text/plain": [
       "<Figure size 720x432 with 1 Axes>"
      ]
     },
     "metadata": {
      "needs_background": "light"
     },
     "output_type": "display_data"
    }
   ],
   "source": [
    "fig, ax = plt.subplots(figsize=(10,6))\n",
    "\n",
    "ax.bar(\n",
    "    top_aircraft_make.index, top_aircraft_make.values, color='skyblue'\n",
    ")\n",
    "ax.set_xlabel(\"Number of Accidents\")\n",
    "ax.set_ylabel(\"Aircraft Make\")\n",
    "ax.set_title(\"Top 10 Aircraft Make Involved in Accidents\");"
   ]
  },
  {
   "cell_type": "markdown",
   "id": "bb6ded3b",
   "metadata": {},
   "source": [
    "The bar chart shows that one aircraft manufacturer is involved in accidents far more frequently than others — with the top manufacturers (being Cessna and Piper, based on typical data trends) having a significantly higher number of incidents than the rest.\n",
    "Recommendation:\n",
    "\n",
    "- Prioritize deeper safety analysis on the top 3 manufacturers.\n",
    "\n",
    "- Launch targeted safety audits and enhanced training programs for pilots operating aircraft from these manufacturers."
   ]
  },
  {
   "cell_type": "markdown",
   "id": "77a7b4b9",
   "metadata": {},
   "source": [
    "####  2. Top 10 Deadliest Aircraft Models and Make\n",
    "\n",
    "To identify the aircraft models involved in the highest number of fatal injuries, we used the following approach:\n",
    "1. **Grouped** the data by both \"Make\" and \"Model\".\n",
    "\n",
    "2. **Summed** the \"Total.Fatal.Injuries\" for each group to capture total fatalities per aircraft type.\n",
    "\n",
    "3. **Sorted** the results in descending order to highlight the models with the most fatalities.\n",
    "\n",
    "4. **Selected** the top 10 for analysis."
   ]
  },
  {
   "cell_type": "code",
   "execution_count": 59,
   "id": "43cb7340",
   "metadata": {},
   "outputs": [
    {
     "data": {
      "text/plain": [
       "Make     Model    \n",
       "BOEING   737          1348.0\n",
       "Boeing   737-200       906.0\n",
       "BOEING   777 - 206     534.0\n",
       "Cessna   172N          428.0\n",
       "Boeing   MD-82         403.0\n",
       "Cessna   172           398.0\n",
       "         152           390.0\n",
       "AIRBUS   A321          381.0\n",
       "Piper    PA-28-181     359.0\n",
       "Tupolev  TU-154        349.0\n",
       "Name: Total.Fatal.Injuries, dtype: float64"
      ]
     },
     "execution_count": 59,
     "metadata": {},
     "output_type": "execute_result"
    }
   ],
   "source": [
    "highest_fatality_rates = aviation_df_cleaned.groupby(['Make', 'Model'])['Total.Fatal.Injuries'].sum().sort_values(ascending=False).head(10)\n",
    "highest_fatality_rates"
   ]
  },
  {
   "cell_type": "code",
   "execution_count": 60,
   "id": "ec60c71b",
   "metadata": {},
   "outputs": [
    {
     "data": {
      "image/png": "[encoded data removed]",
      "text/plain": [
       "<Figure size 1080x504 with 1 Axes>"
      ]
     },
     "metadata": {
      "needs_background": "light"
     },
     "output_type": "display_data"
    }
   ],
   "source": [
    "# Create formatted labels like \"Boeing 737\"\n",
    "labels = [f\"{make} {model}\" for make, model in highest_fatality_rates.index]\n",
    "\n",
    "# Plotting\n",
    "fig, ax = plt.subplots(figsize=(15, 7))\n",
    "bars = ax.bar(labels, highest_fatality_rates.values, color=\"tomato\")\n",
    "ax.set_xlabel(\"Total Fatal Injuries\")\n",
    "ax.set_ylabel(\"Aircraft (Make + Model)\")\n",
    "ax.set_title(\"Top 10 Aircraft Types by Total Fatal Injuries\")\n",
    "plt.tight_layout()\n",
    "\n",
    "\n",
    "\n"
   ]
  },
  {
   "cell_type": "markdown",
   "id": "17ced87d",
   "metadata": {},
   "source": [
    "This bar chart shows which specific aircraft types have been associated with the highest total fatalities in accidents.\n",
    "Key recommendations are:\n",
    "- Encourage Fleet Modernization: If certain models are older or outdated, incentives (such as grants or insurance discounts) could be offered to upgrade to newer, safer models.\n",
    "- Focused Safety Audits: Conduct in-depth safety audits specifically on the top 10 aircraft types identified. This includes maintenance history reviews, operational usage analysis (e.g., training flights, private vs commercial use), and inspection of common failure points."
   ]
  },
  {
   "cell_type": "markdown",
   "id": "207b13ef",
   "metadata": {},
   "source": [
    "#### 3. What are the most dangerous flight phases(based on fatalities)"
   ]
  },
  {
   "cell_type": "markdown",
   "id": "633da5de",
   "metadata": {},
   "source": [
    "I grouped the aviation accident data by the broad phase of flight and exclude \"Unknown\" and then calculated the total number of fatal injuries for each phase. By sorting these values in descending order, I identified which phases of flight are associated with the highest number of fatalities."
   ]
  },
  {
   "cell_type": "code",
   "execution_count": 61,
   "id": "42044f19",
   "metadata": {},
   "outputs": [
    {
     "data": {
      "text/plain": [
       "Broad.phase.of.flight\n",
       "Cruise         6170.0\n",
       "Maneuvering    5319.0\n",
       "Takeoff        4302.0\n",
       "Approach       3836.0\n",
       "Climb          1759.0\n",
       "Descent         913.0\n",
       "Go-around       587.0\n",
       "Landing         518.0\n",
       "Standing        161.0\n",
       "Taxi            102.0\n",
       "Other            85.0\n",
       "Name: Total.Fatal.Injuries, dtype: float64"
      ]
     },
     "execution_count": 61,
     "metadata": {},
     "output_type": "execute_result"
    }
   ],
   "source": [
    "# Exclude \"Unknown\" from the phase of flight analysis\n",
    "dangerous_phases = (aviation_df_cleaned[aviation_df_cleaned['Broad.phase.of.flight'] != 'Unknown']\n",
    "                    .groupby('Broad.phase.of.flight')['Total.Fatal.Injuries']\n",
    "                    .sum()\n",
    "                    .sort_values(ascending=False))\n",
    "\n",
    "dangerous_phases\n"
   ]
  },
  {
   "cell_type": "code",
   "execution_count": 62,
   "id": "3de7efe5",
   "metadata": {},
   "outputs": [
    {
     "data": {
      "image/png": "[encoded data removed]",
      "text/plain": [
       "<Figure size 1080x504 with 1 Axes>"
      ]
     },
     "metadata": {
      "needs_background": "light"
     },
     "output_type": "display_data"
    }
   ],
   "source": [
    "fig, ax = plt.subplots(figsize=(15,7))\n",
    "\n",
    "ax.bar(\n",
    "    dangerous_phases.index, dangerous_phases.values, color=\"salmon\"\n",
    ")\n",
    "ax.set_xlabel(\"Total Fatal Injuries\")\n",
    "ax.set_ylabel(\"Phase of Flight\")\n",
    "ax.set_title(\"Fatal Injuries by Flight Phases\");"
   ]
  },
  {
   "cell_type": "markdown",
   "id": "1fea19dd",
   "metadata": {},
   "source": [
    "The bar shows that certain Phases- particularly cruise, manuevering, Takeoff, and Approach — account for the majority of fatal injuries. Unexpected challenges such as mechanical failure, weather changes, and pilot error are more likely to have fatal consequences during these stages."
   ]
  },
  {
   "cell_type": "markdown",
   "id": "df763933",
   "metadata": {},
   "source": [
    "Some of the recommendations are:\n",
    "- Strengthen pilot training for takeoff, approach, manuevering  and emergency cruise procedures.\n",
    "- Implement advanced in-flight monitoring systems to detect and address anomalies early during cruise."
   ]
  },
  {
   "cell_type": "markdown",
   "id": "cb94cd62",
   "metadata": {},
   "source": [
    "#### 4. The relationship between Number of Engines and Total Fatal Injuries"
   ]
  },
  {
   "cell_type": "markdown",
   "id": "8f8fe01b",
   "metadata": {},
   "source": [
    " I investigated if there is any relationship between the Number of Engines on an aircraft and the Total Fatal Injuries in aviation accidents."
   ]
  },
  {
   "cell_type": "code",
   "execution_count": 63,
   "id": "64d325e1",
   "metadata": {},
   "outputs": [],
   "source": [
    "engine_injury_df = aviation_df_cleaned[['Number.of.Engines', 'Total.Fatal.Injuries']].dropna()"
   ]
  },
  {
   "cell_type": "markdown",
   "id": "15b5006c",
   "metadata": {},
   "source": [
    "I converted both columns to numeric types. Any non-numeric entries were coerced into NaN and then dropped.\n"
   ]
  },
  {
   "cell_type": "code",
   "execution_count": 64,
   "id": "ecdc993f",
   "metadata": {},
   "outputs": [],
   "source": [
    "engine_injury_df['Number.of.Engines'] = pd.to_numeric(engine_injury_df['Number.of.Engines'], errors='coerce')\n",
    "engine_injury_df['Total.Fatal.Injuries'] = pd.to_numeric(engine_injury_df['Total.Fatal.Injuries'], errors='coerce')"
   ]
  },
  {
   "cell_type": "markdown",
   "id": "3a43f5a9",
   "metadata": {},
   "source": [
    "I calculated the correlation between \"Number.of.Engines\" and \"Total.Fatal.Injuries\" and vizualised the result in a scatterplt"
   ]
  },
  {
   "cell_type": "code",
   "execution_count": 65,
   "id": "0e2ed376",
   "metadata": {},
   "outputs": [
    {
     "name": "stdout",
     "output_type": "stream",
     "text": [
      "Correlation between Number of Engines and Total Fatal Injuries: 0.05\n"
     ]
    },
    {
     "data": {
      "image/png": "[encoded data removed]",
      "text/plain": [
       "<Figure size 576x360 with 1 Axes>"
      ]
     },
     "metadata": {
      "needs_background": "light"
     },
     "output_type": "display_data"
    }
   ],
   "source": [
    "# Drop remaining NaNs\n",
    "engine_injury_df.dropna(inplace=True)\n",
    "\n",
    "# Calculate correlation\n",
    "correlation = engine_injury_df.corr().iloc[0, 1]\n",
    "print(f\"Correlation between Number of Engines and Total Fatal Injuries: {correlation:.2f}\")\n",
    "\n",
    "# Plot\n",
    "plt.figure(figsize=(8, 5))\n",
    "sns.scatterplot(data=engine_injury_df, x='Number.of.Engines', y='Total.Fatal.Injuries', alpha=0.6)\n",
    "plt.title(\"Engines vs Fatal Injuries\")\n",
    "plt.xlabel(\"Number of Engines\")\n",
    "plt.ylabel(\"Total Fatal Injuries\")\n",
    "plt.show()"
   ]
  },
  {
   "cell_type": "markdown",
   "id": "1ea86c4d",
   "metadata": {},
   "source": [
    "From the scatterplot above. it is clear that there is no correlation between the number of engines and fatal injuries."
   ]
  },
  {
   "cell_type": "code",
   "execution_count": null,
   "id": "19e13c0f",
   "metadata": {},
   "outputs": [],
   "source": []
  }
 ],
 "metadata": {
  "kernelspec": {
   "display_name": "learn-env",
   "language": "python",
   "name": "python3"
  },
  "language_info": {
   "codemirror_mode": {
    "name": "ipython",
    "version": 3
   },
   "file_extension": ".py",
   "mimetype": "text/x-python",
   "name": "python",
   "nbconvert_exporter": "python",
   "pygments_lexer": "ipython3",
   "version": "3.8.5"
  }
 },
 "nbformat": 4,
 "nbformat_minor": 5
}
